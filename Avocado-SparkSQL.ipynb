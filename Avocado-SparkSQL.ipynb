{
 "cells": [
  {
   "cell_type": "code",
   "execution_count": 72,
   "metadata": {},
   "outputs": [],
   "source": [
    "from pyspark import SparkContext, SparkConf\n",
    "from pyspark.sql import SparkSession"
   ]
  },
  {
   "cell_type": "code",
   "execution_count": 73,
   "metadata": {},
   "outputs": [],
   "source": [
    "sc = SparkContext.getOrCreate()\n",
    "spark = SparkSession \\\n",
    "    .builder \\\n",
    "    .getOrCreate()"
   ]
  },
  {
   "cell_type": "code",
   "execution_count": 221,
   "metadata": {},
   "outputs": [],
   "source": [
    "avocado = spark.read.format(\"csv\").option(\"header\", \"true\").option(\"inferSchema\", \"true\").load(\"avocado.csv\")"
   ]
  },
  {
   "cell_type": "code",
   "execution_count": 222,
   "metadata": {},
   "outputs": [],
   "source": [
    "avocado.createOrReplaceTempView('avocado')"
   ]
  },
  {
   "cell_type": "code",
   "execution_count": 223,
   "metadata": {},
   "outputs": [
    {
     "data": {
      "text/plain": [
       "18249"
      ]
     },
     "execution_count": 223,
     "metadata": {},
     "output_type": "execute_result"
    }
   ],
   "source": [
    "avocado.count()"
   ]
  },
  {
   "cell_type": "code",
   "execution_count": 224,
   "metadata": {},
   "outputs": [
    {
     "data": {
      "text/plain": [
       "['_c0',\n",
       " 'Date',\n",
       " 'AveragePrice',\n",
       " 'TotalVolume',\n",
       " 'Type4046',\n",
       " 'Type4225',\n",
       " 'Type4770',\n",
       " 'TotalBags',\n",
       " 'SmallBags',\n",
       " 'LargeBags',\n",
       " 'XLargeBags',\n",
       " 'type',\n",
       " 'year',\n",
       " 'region']"
      ]
     },
     "execution_count": 224,
     "metadata": {},
     "output_type": "execute_result"
    }
   ],
   "source": [
    "avocado.columns"
   ]
  },
  {
   "cell_type": "code",
   "execution_count": 225,
   "metadata": {},
   "outputs": [
    {
     "name": "stdout",
     "output_type": "stream",
     "text": [
      "+---+----------+------------+-----------+--------+---------+--------+---------+---------+---------+----------+------------+----+------+\n",
      "|_c0|      Date|AveragePrice|TotalVolume|Type4046| Type4225|Type4770|TotalBags|SmallBags|LargeBags|XLargeBags|        type|year|region|\n",
      "+---+----------+------------+-----------+--------+---------+--------+---------+---------+---------+----------+------------+----+------+\n",
      "|  0|2015-12-27|        1.33|   64236.62| 1036.74| 54454.85|   48.16|  8696.87|  8603.62|    93.25|       0.0|conventional|2015|Albany|\n",
      "|  1|2015-12-20|        1.35|   54876.98|  674.28| 44638.81|   58.33|  9505.56|  9408.07|    97.49|       0.0|conventional|2015|Albany|\n",
      "|  2|2015-12-13|        0.93|  118220.22|   794.7|109149.67|   130.5|  8145.35|  8042.21|   103.14|       0.0|conventional|2015|Albany|\n",
      "|  3|2015-12-06|        1.08|   78992.15|  1132.0| 71976.41|   72.58|  5811.16|   5677.4|   133.76|       0.0|conventional|2015|Albany|\n",
      "|  4|2015-11-29|        1.28|    51039.6|  941.48| 43838.39|   75.78|  6183.95|  5986.26|   197.69|       0.0|conventional|2015|Albany|\n",
      "+---+----------+------------+-----------+--------+---------+--------+---------+---------+---------+----------+------------+----+------+\n",
      "only showing top 5 rows\n",
      "\n"
     ]
    }
   ],
   "source": [
    "spark.sql(\"SELECT * FROM avocado\").show(5)"
   ]
  },
  {
   "cell_type": "code",
   "execution_count": 215,
   "metadata": {},
   "outputs": [
    {
     "name": "stdout",
     "output_type": "stream",
     "text": [
      "+-------------------+\n",
      "|             region|\n",
      "+-------------------+\n",
      "|             Albany|\n",
      "|            Atlanta|\n",
      "|BaltimoreWashington|\n",
      "|              Boise|\n",
      "|             Boston|\n",
      "|   BuffaloRochester|\n",
      "|         California|\n",
      "|          Charlotte|\n",
      "|            Chicago|\n",
      "|   CincinnatiDayton|\n",
      "|           Columbus|\n",
      "|      DallasFtWorth|\n",
      "|             Denver|\n",
      "|            Detroit|\n",
      "|        GrandRapids|\n",
      "|         GreatLakes|\n",
      "| HarrisburgScranton|\n",
      "|HartfordSpringfield|\n",
      "|            Houston|\n",
      "|       Indianapolis|\n",
      "+-------------------+\n",
      "only showing top 20 rows\n",
      "\n"
     ]
    }
   ],
   "source": [
    "spark.sql(\"select distinct region from avocado\").show()"
   ]
  },
  {
   "cell_type": "code",
   "execution_count": 226,
   "metadata": {},
   "outputs": [
    {
     "name": "stdout",
     "output_type": "stream",
     "text": [
      "+------------+\n",
      "|        type|\n",
      "+------------+\n",
      "|conventional|\n",
      "|     organic|\n",
      "+------------+\n",
      "\n"
     ]
    }
   ],
   "source": [
    "spark.sql(\"select distinct type from avocado\").show()"
   ]
  },
  {
   "cell_type": "code",
   "execution_count": 258,
   "metadata": {},
   "outputs": [
    {
     "name": "stdout",
     "output_type": "stream",
     "text": [
      "+----+------------+--------------------+-------+--------------------+\n",
      "|year|        type|     TotalVolumeSold|   type|     TotalVolumeSold|\n",
      "+----+------------+--------------------+-------+--------------------+\n",
      "|2015|conventional| 4.296599235690001E9|organic| 8.886942634999989E7|\n",
      "|2016|conventional|4.6902498130499935E9|organic|1.3064007878000006E8|\n",
      "|2017|conventional| 4.766165793440003E9|organic|1.6813990583000007E8|\n",
      "|2018|conventional|     1.33420606913E9|organic|4.8532271129999995E7|\n",
      "+----+------------+--------------------+-------+--------------------+\n",
      "\n"
     ]
    }
   ],
   "source": [
    "spark.sql(\"select x.year, x.type,x.TotalVolumeSold,c.type,c.TotalVolumeSold from (select sum(TotalVolume) as TotalVolumeSold, type,year from avocado where type='organic' group by type,year) as c,(select sum(TotalVolume) as TotalVolumeSold, type,year from avocado where type='conventional' group by type,year) as x where x.year=c.year\").show()"
   ]
  },
  {
   "cell_type": "code",
   "execution_count": null,
   "metadata": {},
   "outputs": [],
   "source": []
  }
 ],
 "metadata": {
  "kernelspec": {
   "display_name": "Python 3",
   "language": "python",
   "name": "python3"
  },
  "language_info": {
   "codemirror_mode": {
    "name": "ipython",
    "version": 3
   },
   "file_extension": ".py",
   "mimetype": "text/x-python",
   "name": "python",
   "nbconvert_exporter": "python",
   "pygments_lexer": "ipython3",
   "version": "3.7.3"
  }
 },
 "nbformat": 4,
 "nbformat_minor": 2
}
